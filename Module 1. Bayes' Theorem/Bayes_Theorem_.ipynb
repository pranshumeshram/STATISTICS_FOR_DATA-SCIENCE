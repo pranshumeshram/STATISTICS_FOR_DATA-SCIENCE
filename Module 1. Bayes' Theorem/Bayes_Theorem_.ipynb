{
  "nbformat": 4,
  "nbformat_minor": 0,
  "metadata": {
    "colab": {
      "provenance": []
    },
    "kernelspec": {
      "name": "python3",
      "display_name": "Python 3"
    },
    "language_info": {
      "name": "python"
    }
  },
  "cells": [
    {
      "cell_type": "markdown",
      "source": [
        "\n",
        "# Bayes' Theorem\n",
        "\n",
        "\n",
        "Bayes' Theorem is a way to update our beliefs about the likelihood of something happening based on new evidence. In statistics and data science, it helps us refine our predictions or understanding of events by considering both prior knowledge and new data.\n",
        "\n",
        "Imagine you have a belief about the probability of a specific event (let’s call this the \"prior\"). When new evidence (data) comes in, Bayes' Theorem lets us adjust our belief to get a \"posterior\" probability—this is an updated belief based on both the prior and the new evidence.\n",
        "\n",
        "# Here’s an example:\n",
        "Suppose you’re trying to predict if a new person will like a particular movie. You might already know that 60% of people in general like the movie (your prior probability). Then, you learn that this person has a preference for action films, which increases the chances they'll like this movie. Bayes' Theorem combines these two pieces of information—the original 60% likelihood and the fact that the person likes action movies—to give a more precise probability they’ll enjoy it.\n",
        "\n",
        "# Why Bayes’ Theorem is Useful in Data Science:\n",
        "\n",
        "**1.Improves Predictions:** It combines past knowledge with new data to refine predictions.\n",
        "\n",
        "**2.Useful in Classification:** It’s especially helpful in classification problems, where it’s applied in algorithms like Naive Bayes, which classifies data based on likelihoods.\n",
        "\n",
        "**3.Makes Better Decisions:** By updating beliefs with data, it leads to more data-driven decision-making.\n",
        "In simple terms, Bayes’ Theorem helps you adjust your expectations or predictions as you learn more, making it a powerful tool for dealing with uncertainty in data.\n",
        "\n",
        "\n",
        "\n",
        "\n",
        "\n",
        "\n"
      ],
      "metadata": {
        "id": "qRCtCizAQlzd"
      }
    },
    {
      "cell_type": "markdown",
      "source": [],
      "metadata": {
        "id": "jW9BuOTzRCaS"
      }
    },
    {
      "cell_type": "code",
      "source": [
        "#Bayes Theorem\n",
        "def get_outcomes(sample_space, f_name='', e_name=''):\n",
        "    outcomes = 0\n",
        "    for e_k, e_v in sample_space.items():\n",
        "        if f_name=='' or f_name==e_k:\n",
        "            for se_k, se_v in e_v.items():\n",
        "                if e_name!='' and se_k == e_name:\n",
        "                    outcomes+=se_v\n",
        "                elif e_name=='':\n",
        "                    outcomes+=se_v\n",
        "    return outcomes"
      ],
      "metadata": {
        "id": "M2fGAPKiTEDN"
      },
      "execution_count": 2,
      "outputs": []
    },
    {
      "cell_type": "code",
      "source": [
        "def p(sample_space, f_name):\n",
        "    return get_outcomes(sample_space, f_name) / get_outcomes(sample_space, '', '')\n",
        "\n",
        "def p_inters(sample_space, f_name, e_name):\n",
        "    return get_outcomes(sample_space, f_name, e_name) / get_outcomes(sample_space, '', '')\n",
        "\n",
        "def p_conditional(sample_space, f_name, e_name):\n",
        "    return p_inters(sample_space, f_name, e_name) / p(sample_space, f_name)\n",
        "\n",
        "def bayes(sample_space, f, given_e):\n",
        "    sum = 0;\n",
        "    for e_k, e_v in sample_space.items():\n",
        "        sum+=p(sample_space, e_k) * p_conditional(sample_space, e_k, given_e)\n",
        "    return p(sample_space, f) * p_conditional(sample_space, f, given_e) / sum\n",
        "\n",
        "sample_space = {'UK':{'Boy':10, 'Girl':20},\n",
        "                'FR':{'Boy':10, 'Girl':10},\n",
        "                'CA':{'Boy':10, 'Girl':30}}\n",
        "\n",
        "print('Probability of being from FR:', p(sample_space, 'FR'))\n",
        "print('Probability to be French Boy:', p_inters(sample_space, 'FR', 'Boy'))\n",
        "print('Probability of being a Boy given a person is from FR:', p_conditional(sample_space, 'FR', 'Boy'))\n",
        "print('Probability to be from France given person is Boy:', bayes(sample_space, 'FR', 'Boy'))\n",
        "\n",
        "\n",
        "sample_space = {'Grow' :{'Up':160, 'Down':40},\n",
        "                'Slows':{'Up':30, 'Down':70}}\n",
        "\n",
        "print('Probability economy is growing when stock is Up:', bayes(sample_space, 'Grow', 'Up'))"
      ],
      "metadata": {
        "id": "V82JLpLUR3Sk",
        "colab": {
          "base_uri": "https://localhost:8080/"
        },
        "outputId": "9265e0ca-4c4b-487e-e204-3885e46920ca"
      },
      "execution_count": 3,
      "outputs": [
        {
          "output_type": "stream",
          "name": "stdout",
          "text": [
            "Probability of being from FR: 0.2222222222222222\n",
            "Probability to be French Boy: 0.1111111111111111\n",
            "Probability of being a Boy given a person is from FR: 0.5\n",
            "Probability to be from France given person is Boy: 0.3333333333333333\n",
            "Probability economy is growing when stock is Up: 0.8421052631578948\n"
          ]
        }
      ]
    }
  ]
}